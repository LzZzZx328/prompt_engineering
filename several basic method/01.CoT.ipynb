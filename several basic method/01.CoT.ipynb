{
 "cells": [
  {
   "cell_type": "code",
   "id": "initial_id",
   "metadata": {
    "collapsed": true,
    "ExecuteTime": {
     "end_time": "2024-10-20T13:01:20.725342Z",
     "start_time": "2024-10-20T13:01:20.186919Z"
    }
   },
   "source": [
    "from openai import OpenAI\n",
    "from typing import List, Dict\n",
    "\n",
    "def ask(messages: List[Dict]):\n",
    "        client = OpenAI(api_key='sk-a6bb624707354861abff16885ffe5252', base_url=\"https://dashscope.aliyuncs.com/compatible-mode/v1\")\n",
    "        response = client.chat.completions.create(\n",
    "                model = 'qwen-plus',\n",
    "                temperature = 0.3,\n",
    "                messages = messages\n",
    "        )\n",
    "\n",
    "        return response"
   ],
   "outputs": [],
   "execution_count": 1
  },
  {
   "metadata": {},
   "cell_type": "markdown",
   "source": "<h2>Few-Shot CoT，prompt的qa给出一步步思考的过程，让llm模仿<h2",
   "id": "bb67d2e9dc47f61c"
  },
  {
   "metadata": {
    "ExecuteTime": {
     "end_time": "2024-10-20T13:01:23.341874Z",
     "start_time": "2024-10-20T13:01:21.191091Z"
    }
   },
   "cell_type": "code",
   "source": [
    "system_prompt = \"\"\" \n",
    "    你是一个有用的助手。\n",
    "\"\"\"\n",
    "\n",
    "question = \"\"\"Q: 小明之前有五个网球，又买了两个罐网球。每个罐子有三颗球。现在小明有多少个球？\n",
    "A: 小明刚开始有5个网球，2罐网球每罐3颗球，一共6颗球。5+6=11，所以他现在有11颗球。\n",
    "Q: 餐厅里有23个苹果。\n",
    "如果厨师用20个苹果做了午餐，又买了6个，那么现在餐厅里还剩多少苹果？\n",
    "A:\"\"\"\n",
    "messages = [\n",
    "    {\"role\": \"system\", \"content\": system_prompt},\n",
    "    {\"role\": \"user\", \"content\": question},\n",
    "]\n",
    "response = ask(messages)\n",
    "# 后处理返回的结果\n",
    "print(response.choices[0].message.content)"
   ],
   "id": "7d916bed5ff2db07",
   "outputs": [
    {
     "name": "stdout",
     "output_type": "stream",
     "text": [
      "餐厅开始时有23个苹果，厨师用了20个来做午餐，所以剩下3个苹果。之后厨师又买了6个苹果，所以3+6=9，现在餐厅里有9个苹果。\n"
     ]
    }
   ],
   "execution_count": 2
  },
  {
   "metadata": {},
   "cell_type": "markdown",
   "source": "<h2>Zero-Shot CoT， 在标准提示词后增加”let’s think step by step”<h2",
   "id": "f249be62ea5db111"
  },
  {
   "metadata": {
    "ExecuteTime": {
     "end_time": "2024-10-20T06:47:10.603601Z",
     "start_time": "2024-10-20T06:47:06.463779Z"
    }
   },
   "cell_type": "code",
   "source": [
    "system_prompt = \"\"\" \n",
    "    你是一个有用的助手。\n",
    "\"\"\"\n",
    "\n",
    "question = \"\"\"Q: 小明之前有五个网球，又买了两个罐网球。每个罐子有三颗球。现在小明有多少个球？\n",
    "A: 他现在有11颗球。\n",
    "Q: 餐厅里有23个苹果。\n",
    "如果厨师用20个苹果做了午餐，又买了6个，那么现在餐厅里还剩多少苹果？\n",
    "A:Let's think step by step.\"\"\"\n",
    "\n",
    "messages = [\n",
    "    {\"role\": \"system\", \"content\": system_prompt},\n",
    "    {\"role\": \"user\", \"content\": question},\n",
    "]\n",
    "response = ask(messages)\n",
    "# 后处理返回的结果\n",
    "print(response.choices[0].message.content)"
   ],
   "id": "64dd7ed63285ac45",
   "outputs": [
    {
     "name": "stdout",
     "output_type": "stream",
     "text": [
      "好的，我们一步一步来思考这个问题：\n",
      "\n",
      "1. **初始数量**：餐厅里最初有23个苹果。\n",
      "2. **使用苹果**：厨师用了20个苹果做午餐。\n",
      "   - 剩余的苹果数量 = 23 - 20 = 3个苹果。\n",
      "3. **购买苹果**：厨师又买了6个苹果。\n",
      "   - 最终的苹果数量 = 3 + 6 = 9个苹果。\n",
      "\n",
      "所以，现在餐厅里还剩下9个苹果。\n"
     ]
    }
   ],
   "execution_count": 14
  },
  {
   "metadata": {},
   "cell_type": "code",
   "outputs": [],
   "execution_count": null,
   "source": "",
   "id": "2149b69dcc25ea25"
  }
 ],
 "metadata": {
  "kernelspec": {
   "display_name": "Python 3",
   "language": "python",
   "name": "python3"
  },
  "language_info": {
   "codemirror_mode": {
    "name": "ipython",
    "version": 2
   },
   "file_extension": ".py",
   "mimetype": "text/x-python",
   "name": "python",
   "nbconvert_exporter": "python",
   "pygments_lexer": "ipython2",
   "version": "2.7.6"
  }
 },
 "nbformat": 4,
 "nbformat_minor": 5
}
