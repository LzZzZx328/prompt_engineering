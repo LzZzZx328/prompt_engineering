{
 "cells": [
  {
   "cell_type": "code",
   "id": "initial_id",
   "metadata": {
    "collapsed": true,
    "ExecuteTime": {
     "end_time": "2024-10-21T00:38:03.642617Z",
     "start_time": "2024-10-21T00:38:03.136903Z"
    }
   },
   "source": [
    "from openai import OpenAI\n",
    "from typing import List, Dict, Optional, Union\n",
    "\n",
    "def ask(messages: List[Dict],is_json:bool = False, stop: Optional[Union[str, List]] = None):\n",
    "        client = OpenAI(api_key='sk-a6bb624707354861abff16885ffe5252', base_url=\"https://dashscope.aliyuncs.com/compatible-mode/v1\")\n",
    "\n",
    "        if is_json:\n",
    "                response = client.chat.completions.create(\n",
    "                        model = 'qwen-plus',\n",
    "                        temperature = 0.7,\n",
    "                        messages = messages,\n",
    "                        response_format={ \"type\": \"json_object\" },\n",
    "                        stop = stop\n",
    "                )\n",
    "        else:\n",
    "                response = client.chat.completions.create(\n",
    "                        model = 'qwen-plus',\n",
    "                        temperature = 0.7,\n",
    "                        messages = messages,\n",
    "                        stop = stop\n",
    "                )\n",
    "\n",
    "        return response"
   ],
   "outputs": [],
   "execution_count": 1
  },
  {
   "metadata": {
    "ExecuteTime": {
     "end_time": "2024-10-21T00:38:50.718972Z",
     "start_time": "2024-10-21T00:38:50.570800Z"
    }
   },
   "cell_type": "code",
   "source": [
    "## Web Search Tool\n",
    "from search import internet_search, process_content\n",
    "\n",
    "class WebSearch:\n",
    "    def __init__(self, name:str='web_search', threhold:int=8000):\n",
    "        self.system_prompt = \"\"\"\n",
    "You are a Insight Researcher.\n",
    "\n",
    "1. To find detail informtion for the user query\n",
    "and summary the content into one sentence as simple as possible\n",
    "2. If the user's question is about specific numerical values, \n",
    "only return the numerical results without any additional explanation.\n",
    "\"\"\"\n",
    "        self.name = name\n",
    "        self.description = \"the tool use for web search\"\n",
    "        self.threhold = threhold\n",
    "\n",
    "    def __call__(self, query:str):\n",
    "        results = internet_search(query)\n",
    "        all_text = \"\"\n",
    "        windows_size = 0\n",
    "        for item in results:\n",
    "            if windows_size >= self.threhold:\n",
    "                break\n",
    "            page_content = process_content(item['href'])\n",
    "            for page in page_content:\n",
    "                if windows_size + len(page) > self.threhold:\n",
    "                    remaining_space = self.threhold - windows_size\n",
    "                    all_text += page[:remaining_space].strip() + \"\\n\\n\"\n",
    "                    windows_size = self.threhold\n",
    "                    break\n",
    "                else:\n",
    "                    windows_size += len(page)\n",
    "                    all_text += page + \"\\n\\n\"\n",
    "            if windows_size >= self.threhold:\n",
    "                break\n",
    "\n",
    "        msg = [{\"role\":\"system\",\"content\":self.system_prompt},\n",
    "               {\"role\":\"user\", \"content\": f\"The query is {query}, The search results are {all_text}\"}]\n",
    "        \n",
    "        answer = ask(messages=msg)\n",
    "\n",
    "        return answer.choices[0].message.content"
   ],
   "id": "f68e6be3d37074c0",
   "outputs": [],
   "execution_count": 2
  },
  {
   "metadata": {
    "ExecuteTime": {
     "end_time": "2024-10-21T00:46:19.483682Z",
     "start_time": "2024-10-21T00:46:19.479750Z"
    }
   },
   "cell_type": "code",
   "source": [
    "# 构建system prompt:包含了tools,Question,Thought,Action,Action。Input,Observation 以及 Final Answer几个部分，之后的 LLM 交互就围绕着这几个部分展开\n",
    "\n",
    "react_prompt = \"\"\"\n",
    "Answer the following questions as best you can. You have access to the following tools:\n",
    "\n",
    "{tools}\n",
    "\n",
    "Use the following format:\n",
    "\n",
    "Question: the input question you must answer\n",
    "Thought: you should always think about what to do\n",
    "Action: the action to take, should be one of [{tool_names}]\n",
    "Action Input: the input to the action, return format like `action_input`\n",
    "Observation: the result of the action\n",
    "... (this Thought/Action/Action Input/Observation can repeat N times)\n",
    "Thought: I now know the final answer\n",
    "Final Answer: the final answer to the original input question\n",
    "\n",
    "Begin!\n",
    "\n",
    "Question: {input}\n",
    "\"\"\""
   ],
   "id": "7658d99746ecc4fb",
   "outputs": [],
   "execution_count": 3
  },
  {
   "metadata": {
    "ExecuteTime": {
     "end_time": "2024-10-21T00:46:26.474187Z",
     "start_time": "2024-10-21T00:46:26.470872Z"
    }
   },
   "cell_type": "code",
   "source": [
    "#选取的问题例子\n",
    "query = \"2024 UEFA European Championship and 2024 Copa América champion\""
   ],
   "id": "8b173ea62b7ea68d",
   "outputs": [],
   "execution_count": 4
  },
  {
   "metadata": {
    "ExecuteTime": {
     "end_time": "2024-10-21T00:46:35.391564Z",
     "start_time": "2024-10-21T00:46:35.387788Z"
    }
   },
   "cell_type": "code",
   "source": [
    "search = WebSearch()\n",
    "available_tools = {search.name: search}"
   ],
   "id": "d6b282770b04d564",
   "outputs": [],
   "execution_count": 5
  },
  {
   "metadata": {
    "ExecuteTime": {
     "end_time": "2024-10-21T00:46:42.893506Z",
     "start_time": "2024-10-21T00:46:42.888945Z"
    }
   },
   "cell_type": "code",
   "source": [
    "# constructure prompt\n",
    "user_prompt = react_prompt.format(tools=search.description, \n",
    "                                    tool_names=search.name,\n",
    "                                    input=query,\n",
    "                                    agent_scratchpad='')\n",
    "print(user_prompt)"
   ],
   "id": "a39071e98015d5a3",
   "outputs": [
    {
     "name": "stdout",
     "output_type": "stream",
     "text": [
      "\n",
      "Answer the following questions as best you can. You have access to the following tools:\n",
      "\n",
      "the tool use for web search\n",
      "\n",
      "Use the following format:\n",
      "\n",
      "Question: the input question you must answer\n",
      "Thought: you should always think about what to do\n",
      "Action: the action to take, should be one of [web_search]\n",
      "Action Input: the input to the action, return format like `action_input`\n",
      "Observation: the result of the action\n",
      "... (this Thought/Action/Action Input/Observation can repeat N times)\n",
      "Thought: I now know the final answer\n",
      "Final Answer: the final answer to the original input question\n",
      "\n",
      "Begin!\n",
      "\n",
      "Question: 2024 UEFA European Championship and 2024 Copa América champion\n",
      "\n"
     ]
    }
   ],
   "execution_count": 6
  },
  {
   "metadata": {
    "ExecuteTime": {
     "end_time": "2024-10-21T00:47:03.498393Z",
     "start_time": "2024-10-21T00:46:57.887308Z"
    }
   },
   "cell_type": "code",
   "source": [
    "# 第一次交互\n",
    "messages = [\n",
    "    {\"role\":\"user\", \"content\":user_prompt},\n",
    "]\n",
    "\n",
    "result1 = ask(messages=messages,\n",
    "              stop=[\"Observation\", \" Observation\"])#大模型的停止词是\"Observation\"，小模型的停止词是\" Observation\"，所以这里用两个停止词都行\n",
    "intermediate_step1 = result1.choices[0].message.content\n",
    "print(intermediate_step1)"
   ],
   "id": "75f7b89270d79c96",
   "outputs": [
    {
     "name": "stdout",
     "output_type": "stream",
     "text": [
      "Thought: To accurately answer this question, I need to find out which countries or teams will be the champions of the 2024 UEFA European Championship and the 2024 Copa América. Since these events are in the future, I will need to look for any predictions, current standings, or relevant information that might help me provide an informed response.\n",
      "Action: web_search\n",
      "Action Input: 2024 UEFA European Championship and 2024 Copa América champion predictions\n",
      "\n"
     ]
    }
   ],
   "execution_count": 7
  },
  {
   "metadata": {
    "ExecuteTime": {
     "end_time": "2024-10-21T00:47:26.039957Z",
     "start_time": "2024-10-21T00:47:26.035600Z"
    }
   },
   "cell_type": "code",
   "source": [
    "import re\n",
    "# 正则匹配action和action_input\n",
    "regex = (\n",
    "            r\"Action\\s*\\d*\\s*:[\\s]*(.*?)[\\s]*Action\\s*\\d*\\s*Input\\s*\\d*\\s*:[\\s]*(.*)\"\n",
    "        )\n",
    "action_match = re.search(regex, intermediate_step1, re.DOTALL)\n",
    "action = action_match.group(1).strip()\n",
    "action_input = action_match.group(2)\n",
    "tool_input = action_input.strip(\" \").strip('\\n').strip('\"')\n",
    "print(action)\n",
    "print(tool_input)"
   ],
   "id": "a9446cb84f160f0f",
   "outputs": [
    {
     "name": "stdout",
     "output_type": "stream",
     "text": [
      "web_search\n",
      "2024 UEFA European Championship and 2024 Copa América champion predictions\n"
     ]
    }
   ],
   "execution_count": 8
  },
  {
   "metadata": {
    "ExecuteTime": {
     "end_time": "2024-10-21T00:48:25.342110Z",
     "start_time": "2024-10-21T00:48:14.935776Z"
    }
   },
   "cell_type": "code",
   "source": [
    "# 找到对应的 Tool，将 Action Input 输入并执行，从而得到结果\n",
    "tool_function1 = available_tools[action]\n",
    "print(tool_input)\n",
    "tool_result1 = tool_function1(query=str(tool_input))\n",
    "print(tool_result1)"
   ],
   "id": "4064881d3cbae8c3",
   "outputs": [
    {
     "name": "stdout",
     "output_type": "stream",
     "text": [
      "2024 UEFA European Championship and 2024 Copa América champion predictions\n",
      "France is predicted to win the 2024 UEFA European Championship, and no clear prediction is available for the 2024 Copa América champion.\n"
     ]
    }
   ],
   "execution_count": 9
  },
  {
   "metadata": {
    "ExecuteTime": {
     "end_time": "2024-10-21T00:48:51.899590Z",
     "start_time": "2024-10-21T00:48:51.896490Z"
    }
   },
   "cell_type": "code",
   "source": [
    "#将第一次 Tool 执行之后的结果，跟之前的 user_prompt 进行合并，得到下一次与 LLM 交互的完整提示词\n",
    "user_prompt += intermediate_step1\n",
    "print(user_prompt)"
   ],
   "id": "c92eb11e55d338d4",
   "outputs": [
    {
     "name": "stdout",
     "output_type": "stream",
     "text": [
      "\n",
      "Answer the following questions as best you can. You have access to the following tools:\n",
      "\n",
      "the tool use for web search\n",
      "\n",
      "Use the following format:\n",
      "\n",
      "Question: the input question you must answer\n",
      "Thought: you should always think about what to do\n",
      "Action: the action to take, should be one of [web_search]\n",
      "Action Input: the input to the action, return format like `action_input`\n",
      "Observation: the result of the action\n",
      "... (this Thought/Action/Action Input/Observation can repeat N times)\n",
      "Thought: I now know the final answer\n",
      "Final Answer: the final answer to the original input question\n",
      "\n",
      "Begin!\n",
      "\n",
      "Question: 2024 UEFA European Championship and 2024 Copa América champion\n",
      "Thought: To accurately answer this question, I need to find out which countries or teams will be the champions of the 2024 UEFA European Championship and the 2024 Copa América. Since these events are in the future, I will need to look for any predictions, current standings, or relevant information that might help me provide an informed response.\n",
      "Action: web_search\n",
      "Action Input: 2024 UEFA European Championship and 2024 Copa América champion predictions\n",
      "\n"
     ]
    }
   ],
   "execution_count": 10
  },
  {
   "metadata": {
    "ExecuteTime": {
     "end_time": "2024-10-21T00:48:58.765953Z",
     "start_time": "2024-10-21T00:48:58.762014Z"
    }
   },
   "cell_type": "code",
   "source": [
    "user_prompt += f\"Observation: {tool_result1}\\nThought:\"\n",
    "print(user_prompt)"
   ],
   "id": "d8682a158827262c",
   "outputs": [
    {
     "name": "stdout",
     "output_type": "stream",
     "text": [
      "\n",
      "Answer the following questions as best you can. You have access to the following tools:\n",
      "\n",
      "the tool use for web search\n",
      "\n",
      "Use the following format:\n",
      "\n",
      "Question: the input question you must answer\n",
      "Thought: you should always think about what to do\n",
      "Action: the action to take, should be one of [web_search]\n",
      "Action Input: the input to the action, return format like `action_input`\n",
      "Observation: the result of the action\n",
      "... (this Thought/Action/Action Input/Observation can repeat N times)\n",
      "Thought: I now know the final answer\n",
      "Final Answer: the final answer to the original input question\n",
      "\n",
      "Begin!\n",
      "\n",
      "Question: 2024 UEFA European Championship and 2024 Copa América champion\n",
      "Thought: To accurately answer this question, I need to find out which countries or teams will be the champions of the 2024 UEFA European Championship and the 2024 Copa América. Since these events are in the future, I will need to look for any predictions, current standings, or relevant information that might help me provide an informed response.\n",
      "Action: web_search\n",
      "Action Input: 2024 UEFA European Championship and 2024 Copa América champion predictions\n",
      "Observation: France is predicted to win the 2024 UEFA European Championship, and no clear prediction is available for the 2024 Copa América champion.\n",
      "Thought:\n"
     ]
    }
   ],
   "execution_count": 11
  },
  {
   "metadata": {
    "ExecuteTime": {
     "end_time": "2024-10-21T00:49:26.551086Z",
     "start_time": "2024-10-21T00:49:23.644549Z"
    }
   },
   "cell_type": "code",
   "source": [
    "# 第2次交互\n",
    "messages = [\n",
    "    {\"role\":\"user\", \"content\":user_prompt},\n",
    "]\n",
    "\n",
    "result2 = ask(messages=messages,\n",
    "              stop=[\"Observation\", \" Observation\"])\n",
    "intermediate_step2 = result2.choices[0].message.content\n",
    "print(intermediate_step2)"
   ],
   "id": "7a4f4cf01a617ca4",
   "outputs": [
    {
     "name": "stdout",
     "output_type": "stream",
     "text": [
      "I found some information on the potential winner of the 2024 UEFA European Championship, but the data for the 2024 Copa América is less clear. I should perform another search to gather more details on the 2024 Copa América.\n",
      "Action: web_search\n",
      "Action Input: 2024 Copa América favorite to win\n",
      "\n"
     ]
    }
   ],
   "execution_count": 12
  },
  {
   "metadata": {
    "ExecuteTime": {
     "end_time": "2024-10-21T00:49:33.615231Z",
     "start_time": "2024-10-21T00:49:33.611796Z"
    }
   },
   "cell_type": "code",
   "source": [
    "user_prompt += intermediate_step2\n",
    "print(user_prompt)"
   ],
   "id": "ff3855e85542d7fa",
   "outputs": [
    {
     "name": "stdout",
     "output_type": "stream",
     "text": [
      "\n",
      "Answer the following questions as best you can. You have access to the following tools:\n",
      "\n",
      "the tool use for web search\n",
      "\n",
      "Use the following format:\n",
      "\n",
      "Question: the input question you must answer\n",
      "Thought: you should always think about what to do\n",
      "Action: the action to take, should be one of [web_search]\n",
      "Action Input: the input to the action, return format like `action_input`\n",
      "Observation: the result of the action\n",
      "... (this Thought/Action/Action Input/Observation can repeat N times)\n",
      "Thought: I now know the final answer\n",
      "Final Answer: the final answer to the original input question\n",
      "\n",
      "Begin!\n",
      "\n",
      "Question: 2024 UEFA European Championship and 2024 Copa América champion\n",
      "Thought: To accurately answer this question, I need to find out which countries or teams will be the champions of the 2024 UEFA European Championship and the 2024 Copa América. Since these events are in the future, I will need to look for any predictions, current standings, or relevant information that might help me provide an informed response.\n",
      "Action: web_search\n",
      "Action Input: 2024 UEFA European Championship and 2024 Copa América champion predictions\n",
      "Observation: France is predicted to win the 2024 UEFA European Championship, and no clear prediction is available for the 2024 Copa América champion.\n",
      "Thought:I found some information on the potential winner of the 2024 UEFA European Championship, but the data for the 2024 Copa América is less clear. I should perform another search to gather more details on the 2024 Copa América.\n",
      "Action: web_search\n",
      "Action Input: 2024 Copa América favorite to win\n",
      "\n"
     ]
    }
   ],
   "execution_count": 13
  },
  {
   "metadata": {
    "ExecuteTime": {
     "end_time": "2024-10-21T00:50:05.492276Z",
     "start_time": "2024-10-21T00:50:05.488657Z"
    }
   },
   "cell_type": "code",
   "source": [
    "import re\n",
    "# parse the 1st result\n",
    "regex = (\n",
    "            r\"Action\\s*\\d*\\s*:[\\s]*(.*?)[\\s]*Action\\s*\\d*\\s*Input\\s*\\d*\\s*:[\\s]*(.*)\"\n",
    "        )\n",
    "action_match = re.search(regex, intermediate_step2, re.DOTALL)\n",
    "action = action_match.group(1).strip()\n",
    "action_input = action_match.group(2)\n",
    "tool_input = action_input.strip(\" \").strip('\\n').strip('\"')\n",
    "print(action)\n",
    "print(tool_input)"
   ],
   "id": "9a5d5781f544d616",
   "outputs": [
    {
     "name": "stdout",
     "output_type": "stream",
     "text": [
      "web_search\n",
      "2024 Copa América favorite to win\n"
     ]
    }
   ],
   "execution_count": 15
  },
  {
   "metadata": {
    "ExecuteTime": {
     "end_time": "2024-10-21T00:51:14.410150Z",
     "start_time": "2024-10-21T00:50:08.712850Z"
    }
   },
   "cell_type": "code",
   "source": [
    "# call tool function\n",
    "tool_function2 = available_tools[action]\n",
    "print(tool_function2.name)\n",
    "print(tool_input)\n",
    "tool_result2 = search(query=str(tool_input))\n",
    "print(tool_result2)"
   ],
   "id": "1c3a5211d13e4851",
   "outputs": [
    {
     "name": "stdout",
     "output_type": "stream",
     "text": [
      "web_search\n",
      "2024 Copa América favorite to win\n",
      "Argentina is the favorite to win the 2024 Copa América with odds of +175.\n"
     ]
    }
   ],
   "execution_count": 16
  },
  {
   "metadata": {
    "ExecuteTime": {
     "end_time": "2024-10-21T00:51:14.422133Z",
     "start_time": "2024-10-21T00:51:14.418975Z"
    }
   },
   "cell_type": "code",
   "source": [
    "user_prompt += f\"Observation: {tool_result2}\\nThought:\"\n",
    "print(user_prompt)"
   ],
   "id": "8df367c78a156874",
   "outputs": [
    {
     "name": "stdout",
     "output_type": "stream",
     "text": [
      "\n",
      "Answer the following questions as best you can. You have access to the following tools:\n",
      "\n",
      "the tool use for web search\n",
      "\n",
      "Use the following format:\n",
      "\n",
      "Question: the input question you must answer\n",
      "Thought: you should always think about what to do\n",
      "Action: the action to take, should be one of [web_search]\n",
      "Action Input: the input to the action, return format like `action_input`\n",
      "Observation: the result of the action\n",
      "... (this Thought/Action/Action Input/Observation can repeat N times)\n",
      "Thought: I now know the final answer\n",
      "Final Answer: the final answer to the original input question\n",
      "\n",
      "Begin!\n",
      "\n",
      "Question: 2024 UEFA European Championship and 2024 Copa América champion\n",
      "Thought: To accurately answer this question, I need to find out which countries or teams will be the champions of the 2024 UEFA European Championship and the 2024 Copa América. Since these events are in the future, I will need to look for any predictions, current standings, or relevant information that might help me provide an informed response.\n",
      "Action: web_search\n",
      "Action Input: 2024 UEFA European Championship and 2024 Copa América champion predictions\n",
      "Observation: France is predicted to win the 2024 UEFA European Championship, and no clear prediction is available for the 2024 Copa América champion.\n",
      "Thought:I found some information on the potential winner of the 2024 UEFA European Championship, but the data for the 2024 Copa América is less clear. I should perform another search to gather more details on the 2024 Copa América.\n",
      "Action: web_search\n",
      "Action Input: 2024 Copa América favorite to win\n",
      "Observation: Argentina is the favorite to win the 2024 Copa América with odds of +175.\n",
      "Thought:\n"
     ]
    }
   ],
   "execution_count": 17
  },
  {
   "metadata": {
    "ExecuteTime": {
     "end_time": "2024-10-21T00:51:30.330434Z",
     "start_time": "2024-10-21T00:51:26.910774Z"
    }
   },
   "cell_type": "code",
   "source": [
    "# 第3次交互\n",
    "messages = [\n",
    "    {\"role\":\"user\", \"content\":user_prompt},\n",
    "]\n",
    "\n",
    "result3 = ask(messages=messages,\n",
    "              stop=[\"Observation\", \" Observation\"])\n",
    "intermediate_step3 = result3.choices[0].message.content\n",
    "print(intermediate_step3)"
   ],
   "id": "72f2a367974d077a",
   "outputs": [
    {
     "name": "stdout",
     "output_type": "stream",
     "text": [
      "I now have predictions for both the 2024 UEFA European Championship and the 2024 Copa América. France is predicted to win the UEFA European Championship, and Argentina is the favorite to win the Copa América.\n",
      "Final Answer: The predicted champions are France for the 2024 UEFA European Championship and Argentina for the 2024 Copa América.\n"
     ]
    }
   ],
   "execution_count": 18
  },
  {
   "metadata": {},
   "cell_type": "code",
   "outputs": [],
   "execution_count": null,
   "source": "",
   "id": "45f5f1ac69a6e5d6"
  }
 ],
 "metadata": {
  "kernelspec": {
   "display_name": "Python 3",
   "language": "python",
   "name": "python3"
  },
  "language_info": {
   "codemirror_mode": {
    "name": "ipython",
    "version": 2
   },
   "file_extension": ".py",
   "mimetype": "text/x-python",
   "name": "python",
   "nbconvert_exporter": "python",
   "pygments_lexer": "ipython2",
   "version": "2.7.6"
  }
 },
 "nbformat": 4,
 "nbformat_minor": 5
}
