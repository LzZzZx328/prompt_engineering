{
 "cells": [
  {
   "cell_type": "code",
   "id": "initial_id",
   "metadata": {
    "collapsed": true,
    "ExecuteTime": {
     "end_time": "2024-10-20T14:45:56.739573Z",
     "start_time": "2024-10-20T14:45:56.735755Z"
    }
   },
   "source": [
    "from openai import OpenAI\n",
    "from typing import List, Dict\n",
    "\n",
    "def ask(messages: List[Dict], is_json:bool = False):\n",
    "        client = OpenAI(api_key='sk-a6bb624707354861abff16885ffe5252', base_url=\"https://dashscope.aliyuncs.com/compatible-mode/v1\")\n",
    "\n",
    "        if is_json:\n",
    "                response = client.chat.completions.create(\n",
    "                        model = 'qwen-plus',\n",
    "                        temperature = 0,\n",
    "                        messages = messages,\n",
    "                        response_format={ \"type\": \"json_object\" }\n",
    "                )\n",
    "        else:\n",
    "                response = client.chat.completions.create(\n",
    "                        model = 'qwen-plus',\n",
    "                        temperature = 0,\n",
    "                        messages = messages,\n",
    "                )\n",
    "\n",
    "        return response"
   ],
   "outputs": [],
   "execution_count": 68
  },
  {
   "metadata": {
    "ExecuteTime": {
     "end_time": "2024-10-20T14:45:57.302842Z",
     "start_time": "2024-10-20T14:45:57.297798Z"
    }
   },
   "cell_type": "code",
   "source": [
    "## Web Search Tool\n",
    "from search import internet_search, process_content\n",
    "\n",
    "class WebSearch:\n",
    "    def __init__(self, name:str='web_search', threhold:int=8000):\n",
    "        self.system_prompt = \"\"\"\n",
    "You are a Insight Researcher.\n",
    "\n",
    "1. To find detail informtion for the user query\n",
    "and summary the content into one sentence as simple as possible\n",
    "2. If the user's question is about specific numerical values, \n",
    "only return the numerical results without any additional explanation.\n",
    "\"\"\"\n",
    "        self.name = name\n",
    "        self.description = \"the tool use for web search\"\n",
    "        self.threhold = threhold\n",
    "\n",
    "    def __call__(self, query:str):\n",
    "        # print(query)\n",
    "        results = internet_search(query)\n",
    "        # print(results)\n",
    "        all_text = \"\"\n",
    "        windows_size = 0\n",
    "        for item in results:\n",
    "            if windows_size >= self.threhold:\n",
    "                break\n",
    "            page_content = process_content(item['href'])\n",
    "            for page in page_content:\n",
    "                if windows_size + len(page) > self.threhold:\n",
    "                    remaining_space = self.threhold - windows_size\n",
    "                    all_text += page[:remaining_space].strip() + \"\\n\\n\"\n",
    "                    windows_size = self.threhold\n",
    "                    break\n",
    "                else:\n",
    "                    windows_size += len(page)\n",
    "                    all_text += page + \"\\n\\n\"\n",
    "            if windows_size >= self.threhold:\n",
    "                break\n",
    "\n",
    "        msg = [{\"role\":\"system\",\"content\":self.system_prompt},\n",
    "               {\"role\":\"user\", \"content\": f\"The search results are {all_text}\"}]\n",
    "        \n",
    "        answer = ask(messages=msg)\n",
    "\n",
    "        return answer.choices[0].message.content"
   ],
   "id": "8b02836739d4b24d",
   "outputs": [],
   "execution_count": 69
  },
  {
   "metadata": {
    "ExecuteTime": {
     "end_time": "2024-10-20T14:45:59.250236Z",
     "start_time": "2024-10-20T14:45:59.244420Z"
    }
   },
   "cell_type": "code",
   "source": [
    "#Calculation Tool\n",
    "class AbsDifference:\n",
    "    def __init__(self, name:str=\"subtractions\"):\n",
    "        self.system_prompt = \"You are a calculation assistant.\"\n",
    "\n",
    "        self.name = name\n",
    "        self.description = \"math tool for calculating subtractions\"\n",
    "        \n",
    "    def __call__(self, result1:str, result2:str) -> str:\n",
    "        question = f\"To calculate the abs difference between {result1} and {result2}\"\n",
    "\n",
    "        user_content = f\"\"\"\n",
    "Answer the Question based on the Context. When you write down a expression, it MUST ONLY consists of numbers and operators. Here are some guidelines that you will be PANALIZED if you don't follow:\n",
    "\n",
    "  - When you are asked for differences, you consider the absolute value of the difference. Difference of two numbers is always positive.For instance, the difference between 1 and 2 is 1, not -1.\n",
    "  - When you are applying operations (e.g. difference, summation, ratio, etc.) between multiple values in the Context, you must unify the units of those numbers. For instance, you cannot add 1 meter to 1 foot.\n",
    "     - You must pick the values in the same units if all the values are available in the same units.\n",
    "     - If not, you must convert them to the same units before applying the operation.\n",
    "  - You MUST strictly follow the unit (e.g. meter, kilometer, million, etc.) you were asked.\n",
    "     - If the Context has the numbers in same units as the question, you can directly use them.\n",
    "     - If the Context has the numbers in different units than the question, you must convert them to the units asked in the question.For example, if the question asks for the distance between two cities in kilometers, but the Context has the distance in miles, you must convert the distance to kilometers.\n",
    "  - If you are asked about a particular number in millions, billions, or any other unit, the number should be written without specifying the unit. For example, if you are asked for 100 millions, it should be written as 100, not 100 million or 100,000,000.\n",
    " - Never introduce a variable. For instance \"gazelle_max_speed * 1.4\" is not allowed. Pick up a correct number from the given context.\n",
    "\n",
    "Here is an example of a correct answer:\n",
    "If result1 is 100 and result2 is 50, you should output: |100 - 50| = 50.\n",
    "\n",
    " Question: {question}\n",
    " \n",
    "\"\"\"\n",
    "        messages = [\n",
    "            {\"role\":\"system\", \"content\":self.system_prompt},\n",
    "            {\"role\":\"user\", \"content\":user_content}\n",
    "        ]\n",
    "\n",
    "        response = ask(messages=messages, is_json=True)\n",
    "        return response.choices[0].message.content"
   ],
   "id": "458a0afa1aad66b7",
   "outputs": [],
   "execution_count": 70
  },
  {
   "metadata": {
    "ExecuteTime": {
     "end_time": "2024-10-20T14:46:00.237608Z",
     "start_time": "2024-10-20T14:46:00.233669Z"
    }
   },
   "cell_type": "code",
   "source": [
    "search_tool = WebSearch(name=\"search\")\n",
    "math_tool = AbsDifference(name=\"math\")\n",
    "\n",
    "tools = [search_tool, math_tool]"
   ],
   "id": "95e97197e618f595",
   "outputs": [],
   "execution_count": 71
  },
  {
   "metadata": {
    "ExecuteTime": {
     "end_time": "2024-10-21T00:00:04.296138Z",
     "start_time": "2024-10-21T00:00:04.290628Z"
    }
   },
   "cell_type": "code",
   "source": [
    "#制定计划流程和格式\n",
    "system_prompt = f\"\"\"\n",
    "Let's first understand the problem and devise a plan to solve the problem.\n",
    "Please output the plan starting with the header 'Plan:' and then followed by a numbered list of steps. \n",
    "Please make the plan the minimum number of steps required to accurately complete the task. If the task is a question, \n",
    "the final step should almost always be 'Given the above steps taken, please respond to the users original question'. \n",
    "\n",
    "If you can answer the question, please output'Thought: I can answer the question now.' at the end of the plan. \n",
    "Each plan should comprise an action from the following {len(tools)} types:\n",
    "\"\"\"\n",
    "\n",
    "for i, tool in enumerate(tools):\n",
    "    system_prompt += f\"{i+1}. {tool.name}: {tool.description}\\n\"\n",
    "\n",
    "print(system_prompt)"
   ],
   "id": "d242387145569e40",
   "outputs": [
    {
     "name": "stdout",
     "output_type": "stream",
     "text": [
      "\n",
      "Let's first understand the problem and devise a plan to solve the problem.\n",
      "Please output the plan starting with the header 'Plan:' and then followed by a numbered list of steps. \n",
      "Please make the plan the minimum number of steps required to accurately complete the task. If the task is a question, \n",
      "the final step should almost always be 'Given the above steps taken, please respond to the users original question'. \n",
      "\n",
      "If you can answer the question, please output'Thought: I can answer the question now.' at the end of the plan. \n",
      "Each plan should comprise an action from the following 2 types:\n",
      "1. search: the tool use for web search\n",
      "2. math: math tool for calculating subtractions\n",
      "\n"
     ]
    }
   ],
   "execution_count": 76
  },
  {
   "metadata": {
    "ExecuteTime": {
     "end_time": "2024-10-20T14:46:04.209715Z",
     "start_time": "2024-10-20T14:46:04.205475Z"
    }
   },
   "cell_type": "code",
   "source": [
    "# 为了进一步提升系统的准确性，使用few-shot CoT的方法，训练模型能够快速理解用户的意图，并根据用户的意图生成相应的回复。\n",
    "EXAMPLE_PROMPT = (\n",
    "    \"Question: If cheetah was 1.3 times slower, greyhound was 1.5 times faster, and falcon was 2.3 time slower then their maximum speeds, \"\n",
    "    \"what will be the ratio of the fastest animal to the slowest animal?\\n\"\n",
    "    '1. search(\"cheetah\")\\n'\n",
    "    '2. math(\"cheetah max speed in km/h if 1.3 times slower?\", [\"$1\"]\\n'\n",
    "    '3. search(\"greyhound\")\\n'\n",
    "    '4. math(\"greyhound max speed in km/h if 1.5 times faster?\", [\"$3\"]\\n'\n",
    "    '5. search(\"falcon\")\\n'\n",
    "    '6. math(\"falcon max speed in km/h if 2.3 times slower?\", [\"$5\"]\\n'\n",
    "    '7. math(\"max($2, $4, $6) / min($2, $4, $6)\")\\n'\n",
    "    \"Thought: I can answer the question now.\\n\"\n",
    "    \"###\\n\"\n",
    "    \"\\n\"\n",
    "    \"Question: If Mount Everest's height were halved and Mount Kilimanjaro's height were doubled, what would be the difference in their height?\\n\"\n",
    "    \"1. search('Mount Everest')\\n\"\n",
    "    '2. math(\"half of Mount Everest height in meter?\", [\"$1\"])\\n'\n",
    "    '3. search(\"Mount Kilimanjaro\")\\n'\n",
    "    '4. math(\"double of Mount Kilimanjaro height in meter?\", [\"$3\"])\\n'\n",
    "    '5. math(\"abs($3 - $4)\")\\n'\n",
    "    \"Thought: I can answer the question now.\\n\"\n",
    "    \"###\\n\"\n",
    "    \"\\n\"\n",
    "    \"Question: With the Sahara Desert's area reduced by 33% and the Kalahari Desert's area magnified by 52%, which one covers more ground?\\n\"\n",
    "    \"1. search('Sahara Desert')\\n\"\n",
    "    \"2. math('Sahara Desert area in km^2 if reduced by 33%?', ['$1'])\\n\"\n",
    "    '3. search(\"Kalahari Desert\")\\n'\n",
    "    \"4. math('Kalahari Desert area in km^2 if magnified by 52%?', ['$3'])\\n\"\n",
    "    \"Thought: I can compare the numbers without calling math.\\n\"\n",
    "    \"###\\n\"\n",
    "    \"\\n\"\n",
    "    \"Question: Determine the smaller value: the depth difference in meters between the Mariana Trench and the Puerto Rico Trench, \"\n",
    "    \"or the depth difference in meters between the South Sandwich Trench and the Sunda Trench.\\n\"\n",
    "    \"1. search('Mariana Trench')\\n\"\n",
    "    \"2. search('Puerto Rico Trench')\\n\"\n",
    "    \"3. math('absolute depth difference between Mariana and Puerto Rico Trench in meters?', ['$1', '$2'])\\n\"\n",
    "    \"4. search('South Sandwich Trench')\\n\"\n",
    "    \"5. search('Sunda Trench')\\n\"\n",
    "    \"6. math('absolute depth difference between South Sandwich and Sunda Trench in meters?', ['$4', '$5'])\\n\"\n",
    "    \"7. math('min($3, $6)')\\n\"\n",
    "    \"Thought: I can answer the question now.\\n\"\n",
    "    \"###\\n\"\n",
    "    \"\\n\"\n",
    "    \"Question: What is the raio of the height of Mount Everest and the height of Mount Kilimanjaro?\\n\"\n",
    "    \"1. search('Mount Everest')\\n\"\n",
    "    \"2. search('Mount Kilimanjaro')\\n\"\n",
    "    \"3. math('height of Mount Everest / height of Mount Kilimanjaro', ['$1', '$2'])\\n\"\n",
    "    \"Thought: I can answer the question now.\\n\"\n",
    "    \"###\\n\"\n",
    ")\n",
    "# the above prompt is refer to llm compiler\n",
    "\n",
    "system_prompt = system_prompt + '\\n' + EXAMPLE_PROMPT\n",
    "print(system_prompt)"
   ],
   "id": "56af04f45b2c55d7",
   "outputs": [
    {
     "name": "stdout",
     "output_type": "stream",
     "text": [
      "\n",
      "Let's first understand the problem and devise a plan to solve the problem.\n",
      "Please output the plan starting with the header 'Plan:' and then followed by a numbered list of steps. \n",
      "Please make the plan the minimum number of steps required to accurately complete the task. If the task is a question, \n",
      "the final step should almost always be 'Given the above steps taken, please respond to the users original question'. \n",
      "\n",
      "If you can answer the question, please output'Thought: I can answer the question now.' at the end of the plan. \n",
      "Each plan should comprise an action from the following 3 types:\n",
      "1. search: the tool use for web search\n",
      "2. math: math tool for calculating subtractions\n",
      "\n",
      "Question: If cheetah was 1.3 times slower, greyhound was 1.5 times faster, and falcon was 2.3 time slower then their maximum speeds, what will be the ratio of the fastest animal to the slowest animal?\n",
      "1. search(\"cheetah\")\n",
      "2. math(\"cheetah max speed in km/h if 1.3 times slower?\", [\"$1\"]\n",
      "3. search(\"greyhound\")\n",
      "4. math(\"greyhound max speed in km/h if 1.5 times faster?\", [\"$3\"]\n",
      "5. search(\"falcon\")\n",
      "6. math(\"falcon max speed in km/h if 2.3 times slower?\", [\"$5\"]\n",
      "7. math(\"max($2, $4, $6) / min($2, $4, $6)\")\n",
      "Thought: I can answer the question now.\n",
      "###\n",
      "\n",
      "Question: If Mount Everest's height were halved and Mount Kilimanjaro's height were doubled, what would be the difference in their height?\n",
      "1. search('Mount Everest')\n",
      "2. math(\"half of Mount Everest height in meter?\", [\"$1\"])\n",
      "3. search(\"Mount Kilimanjaro\")\n",
      "4. math(\"double of Mount Kilimanjaro height in meter?\", [\"$3\"])\n",
      "5. math(\"abs($3 - $4)\")\n",
      "Thought: I can answer the question now.\n",
      "###\n",
      "\n",
      "Question: With the Sahara Desert's area reduced by 33% and the Kalahari Desert's area magnified by 52%, which one covers more ground?\n",
      "1. search('Sahara Desert')\n",
      "2. math('Sahara Desert area in km^2 if reduced by 33%?', ['$1'])\n",
      "3. search(\"Kalahari Desert\")\n",
      "4. math('Kalahari Desert area in km^2 if magnified by 52%?', ['$3'])\n",
      "Thought: I can compare the numbers without calling math.\n",
      "###\n",
      "\n",
      "Question: Determine the smaller value: the depth difference in meters between the Mariana Trench and the Puerto Rico Trench, or the depth difference in meters between the South Sandwich Trench and the Sunda Trench.\n",
      "1. search('Mariana Trench')\n",
      "2. search('Puerto Rico Trench')\n",
      "3. math('absolute depth difference between Mariana and Puerto Rico Trench in meters?', ['$1', '$2'])\n",
      "4. search('South Sandwich Trench')\n",
      "5. search('Sunda Trench')\n",
      "6. math('absolute depth difference between South Sandwich and Sunda Trench in meters?', ['$4', '$5'])\n",
      "7. math('min($3, $6)')\n",
      "Thought: I can answer the question now.\n",
      "###\n",
      "\n",
      "Question: What is the raio of the height of Mount Everest and the height of Mount Kilimanjaro?\n",
      "1. search('Mount Everest')\n",
      "2. search('Mount Kilimanjaro')\n",
      "3. math('height of Mount Everest / height of Mount Kilimanjaro', ['$1', '$2'])\n",
      "Thought: I can answer the question now.\n",
      "###\n",
      "\n"
     ]
    }
   ],
   "execution_count": 73
  },
  {
   "metadata": {
    "ExecuteTime": {
     "end_time": "2024-10-20T14:46:24.831587Z",
     "start_time": "2024-10-20T14:46:22.327906Z"
    }
   },
   "cell_type": "code",
   "source": [
    "#步骤3中的[\"$1\", \"$2\"]代表需要步骤1、2的结果作为输入。\n",
    "user_content = \"the currentpopulation gap between Toronto and New York city\"\n",
    "\n",
    "messages = [\n",
    "    {\"role\":\"system\", \"content\":system_prompt},\n",
    "    {\"role\":\"user\", \"content\":user_content}\n",
    "]\n",
    "\n",
    "response = ask(messages=messages)\n",
    "\n",
    "plan = response.choices[0].message.content\n",
    "print(plan)"
   ],
   "id": "1f582121dfc85e2a",
   "outputs": [
    {
     "name": "stdout",
     "output_type": "stream",
     "text": [
      "Plan:\n",
      "1. search(\"current population of Toronto\")\n",
      "2. search(\"current population of New York City\")\n",
      "3. math(\"population of New York City - population of Toronto\", [\"$1\", \"$2\"])\n",
      "Thought: I can answer the question now.\n"
     ]
    }
   ],
   "execution_count": 75
  },
  {
   "metadata": {},
   "cell_type": "code",
   "outputs": [],
   "execution_count": null,
   "source": "",
   "id": "9f69b43b66401c7"
  }
 ],
 "metadata": {
  "kernelspec": {
   "display_name": "Python 3",
   "language": "python",
   "name": "python3"
  },
  "language_info": {
   "codemirror_mode": {
    "name": "ipython",
    "version": 2
   },
   "file_extension": ".py",
   "mimetype": "text/x-python",
   "name": "python",
   "nbconvert_exporter": "python",
   "pygments_lexer": "ipython2",
   "version": "2.7.6"
  }
 },
 "nbformat": 4,
 "nbformat_minor": 5
}
