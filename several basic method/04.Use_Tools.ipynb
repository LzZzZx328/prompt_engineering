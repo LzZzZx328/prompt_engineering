{
 "cells": [
  {
   "cell_type": "code",
   "id": "initial_id",
   "metadata": {
    "collapsed": true,
    "ExecuteTime": {
     "end_time": "2024-10-20T13:12:47.056202Z",
     "start_time": "2024-10-20T13:12:47.051926Z"
    }
   },
   "source": [
    "from openai import OpenAI\n",
    "from typing import List, Dict\n",
    "\n",
    "def ask(messages: List[Dict], is_json: bool = False):\n",
    "        client = OpenAI(api_key='sk-a6bb624707354861abff16885ffe5252', base_url=\"https://dashscope.aliyuncs.com/compatible-mode/v1\")\n",
    "        \n",
    "        if is_json:\n",
    "                response = client.chat.completions.create(\n",
    "                        model = 'qwen-plus',\n",
    "                        temperature = 0,\n",
    "                        messages = messages,\n",
    "                        response_format={ \"type\": \"json_object\" }\n",
    "                )\n",
    "        else:\n",
    "                response = client.chat.completions.create(\n",
    "                        model = 'qwen-plus',\n",
    "                        temperature = 0,\n",
    "                        messages = messages,\n",
    "                )\n",
    "\n",
    "        return response"
   ],
   "outputs": [],
   "execution_count": 85
  },
  {
   "metadata": {},
   "cell_type": "markdown",
   "source": "<h2>Web Search Tool<h2",
   "id": "13236ab79f57ed36"
  },
  {
   "metadata": {
    "ExecuteTime": {
     "end_time": "2024-10-20T12:48:33.413992Z",
     "start_time": "2024-10-20T12:48:33.411079Z"
    }
   },
   "cell_type": "code",
   "source": "from search import internet_search, process_content #web search ",
   "id": "f48afb11bc1b1d49",
   "outputs": [],
   "execution_count": 46
  },
  {
   "metadata": {
    "ExecuteTime": {
     "end_time": "2024-10-20T12:48:37.620140Z",
     "start_time": "2024-10-20T12:48:34.929151Z"
    }
   },
   "cell_type": "code",
   "source": [
    "search_T = internet_search('population of Toronto in 2022')\n",
    "search_T"
   ],
   "id": "e8d33e8f84406fea",
   "outputs": [
    {
     "data": {
      "text/plain": [
       "[{'title': 'Demographics of Toronto - Wikipedia',\n",
       "  'href': 'https://en.wikipedia.org/wiki/Demographics_of_Toronto',\n",
       "  'body': \"The last complete census by Statistics Canada, which was taken in 2021, estimated there were 2,794,356 living in Toronto, [ 25 ] making it the most populous city in Canada [ 26 ] and the fourth most populous municipality in North America. [ 27 ] Toronto's population grew by 2.3 percent from 2016 to 2021, with an annual growth rate of 0.46 percent.\"},\n",
       " {'title': 'Toronto - Statistics & Facts | Statista',\n",
       "  'href': 'https://www.statista.com/topics/9849/toronto/',\n",
       "  'body': \"Premium Statistic Average age of Toronto's population in Canada 2001-2022 Premium Statistic Number of births in Toronto, Canada 2001-2022, by gender\"},\n",
       " {'title': \"Toronto's population is the fastest growing in Canada and U.S.: report ...\",\n",
       "  'href': 'https://nationalpost.com/news/canada/toronto-population-fastest-growing-canada-united-states',\n",
       "  'body': 'A new report published by Toronto Metropolitan University found that the central city of Toronto grew by 125,756 people and the metropolitan area by 221,588 from July 2022 to July 2023 — more ...'},\n",
       " {'title': 'Population estimates, July 1, by census metropolitan area and census ...',\n",
       "  'href': 'https://www150.statcan.gc.ca/t1/tbl1/en/tv.action?pid=1710014801',\n",
       "  'body': 'Population estimates as of July 1 are final intercensal up to 2020, final postcensal for 2021, updated postcensal for 2022 and preliminary postcensal for 2023. The population growth, which is used to calculate population estimates of census metropolitan areas and census agglomerations (table 17100148), is comprised of the components of ...'},\n",
       " {'title': 'Toronto Population 2022: Facts and Figures',\n",
       "  'href': 'https://historyoftoronto.ca/blog/what-is-the-population-of-toronto-in-2022',\n",
       "  'body': \"In 2022, Toronto's population continues to grow at a rapid rate, solidifying its position as one of the most populous cities in North America. Toronto, the capital city of Ontario, is a bustling metropolis known for its cultural diversity, vibrant neighborhoods, and thriving economy. As of 2022, the population of Toronto is estimated to be ...\"}]"
      ]
     },
     "execution_count": 47,
     "metadata": {},
     "output_type": "execute_result"
    }
   ],
   "execution_count": 47
  },
  {
   "metadata": {
    "ExecuteTime": {
     "end_time": "2024-10-20T12:48:39.277861Z",
     "start_time": "2024-10-20T12:48:39.272950Z"
    }
   },
   "cell_type": "code",
   "source": "search_T[0]",
   "id": "be649906b0849a3f",
   "outputs": [
    {
     "data": {
      "text/plain": [
       "{'title': 'Demographics of Toronto - Wikipedia',\n",
       " 'href': 'https://en.wikipedia.org/wiki/Demographics_of_Toronto',\n",
       " 'body': \"The last complete census by Statistics Canada, which was taken in 2021, estimated there were 2,794,356 living in Toronto, [ 25 ] making it the most populous city in Canada [ 26 ] and the fourth most populous municipality in North America. [ 27 ] Toronto's population grew by 2.3 percent from 2016 to 2021, with an annual growth rate of 0.46 percent.\"}"
      ]
     },
     "execution_count": 48,
     "metadata": {},
     "output_type": "execute_result"
    }
   ],
   "execution_count": 48
  },
  {
   "metadata": {
    "ExecuteTime": {
     "end_time": "2024-10-20T12:48:43.681786Z",
     "start_time": "2024-10-20T12:48:40.443313Z"
    }
   },
   "cell_type": "code",
   "source": [
    "search_N = internet_search('population of New York City in 2022')\n",
    "search_N[0]"
   ],
   "id": "454bcaf27e8514ed",
   "outputs": [
    {
     "data": {
      "text/plain": [
       "{'title': 'New York, New York Population History | 1840 - 2022 - Biggest US Cities',\n",
       " 'href': 'https://www.biggestuscities.com/city/new-york-new-york',\n",
       " 'body': 'Access the most recent census population information for New York, New York, including a population profile and history. ... 2022: 8,335,798: 1-1.6% 2021: 8,467,513: 1-3.5% ... the current population of New York is 8,258,035. New York, New York is the largest city in the US. What county is New York, New York in? Parts of New York are located ...'}"
      ]
     },
     "execution_count": 49,
     "metadata": {},
     "output_type": "execute_result"
    }
   ],
   "execution_count": 49
  },
  {
   "metadata": {
    "ExecuteTime": {
     "end_time": "2024-10-20T12:48:57.254010Z",
     "start_time": "2024-10-20T12:48:57.248177Z"
    }
   },
   "cell_type": "code",
   "source": [
    "class WebSearch:\n",
    "    def __init__(self, name:str='web_search', threhold:int=8000):\n",
    "        self.system_prompt = \"\"\"\n",
    "You are a Insight Researcher.\n",
    "\n",
    "1. To find detail informtion for the user query\n",
    "and summary the content into one sentence as simple as possible\n",
    "2. If the user's question is about specific numerical values, \n",
    "only return the numerical results without any additional explanation.\n",
    "\"\"\"\n",
    "        self.name = name\n",
    "        self.description = \"the tool use for web search\"\n",
    "        self.threhold = threhold\n",
    "\n",
    "    def __call__(self, query:str):\n",
    "        # print(query)\n",
    "        results = internet_search(query)\n",
    "        # print(results)\n",
    "        all_text = \"\"\n",
    "        windows_size = 0\n",
    "        for item in results:\n",
    "            if windows_size >= self.threhold:\n",
    "                break\n",
    "            page_content = process_content(item['href'])\n",
    "            for page in page_content:\n",
    "                if windows_size + len(page) > self.threhold:\n",
    "                    remaining_space = self.threhold - windows_size\n",
    "                    all_text += page[:remaining_space].strip() + \"\\n\\n\"\n",
    "                    windows_size = self.threhold\n",
    "                    break\n",
    "                else:\n",
    "                    windows_size += len(page)\n",
    "                    all_text += page + \"\\n\\n\"\n",
    "            if windows_size >= self.threhold:\n",
    "                break\n",
    "\n",
    "        msg = [{\"role\":\"system\",\"content\":self.system_prompt},\n",
    "               {\"role\":\"user\", \"content\": f\"The search results are {all_text}\"}]\n",
    "        \n",
    "        answer = ask(messages=msg)\n",
    "\n",
    "        return answer.choices[0].message.content"
   ],
   "id": "f36923e054af4712",
   "outputs": [],
   "execution_count": 50
  },
  {
   "metadata": {
    "ExecuteTime": {
     "end_time": "2024-10-20T12:53:37.914701Z",
     "start_time": "2024-10-20T12:53:32.391913Z"
    }
   },
   "cell_type": "code",
   "source": [
    "search_tool = WebSearch()\n",
    "result1 = search_tool(\"population of Toronto in 2022\")\n",
    "print(result1)"
   ],
   "id": "e38509b8b6decf30",
   "outputs": [
    {
     "name": "stdout",
     "output_type": "stream",
     "text": [
      "Toronto's population was 2,794,356 in 2021, making it the most populous city in Canada.\n"
     ]
    }
   ],
   "execution_count": 61
  },
  {
   "metadata": {
    "ExecuteTime": {
     "end_time": "2024-10-20T12:53:46.434204Z",
     "start_time": "2024-10-20T12:53:40.417015Z"
    }
   },
   "cell_type": "code",
   "source": [
    "result2 = search_tool(\"population of New York City in 2022\")\n",
    "print(result2)"
   ],
   "id": "4259cf8f5a48f6a1",
   "outputs": [
    {
     "name": "stdout",
     "output_type": "stream",
     "text": [
      "New York, New York's current population is 8,258,035.\n"
     ]
    }
   ],
   "execution_count": 62
  },
  {
   "metadata": {},
   "cell_type": "markdown",
   "source": "<h2>Math Tool<h2",
   "id": "ec1f4c105af75a49"
  },
  {
   "metadata": {},
   "cell_type": "markdown",
   "source": "<h3>llm+python</h3",
   "id": "32b03521bed7008e"
  },
  {
   "metadata": {
    "ExecuteTime": {
     "end_time": "2024-10-20T13:18:30.032492Z",
     "start_time": "2024-10-20T13:18:30.028334Z"
    }
   },
   "cell_type": "code",
   "source": [
    "system_prompt = \"\"\"\n",
    "Extract the numerical values from the strings of the minuend and subtrahend provided by the user.\n",
    "\"\"\"\n",
    "\n",
    "user_content = f\"\"\"\n",
    "input parameters\n",
    "<minuend>\n",
    "{result1}\n",
    "</minuend>\n",
    "\n",
    "<subtrahend>\n",
    "{result2}\n",
    "</subtrahend>\n",
    "\n",
    "output parameters in json format\n",
    "```json\n",
    "{{\n",
    "    \"minuend\":\"the value of minuend in float\",\n",
    "    \"subtrahend\": \"the value of subtrahend in float\"\n",
    "}}\n",
    "```\n",
    "only return the numerical results without any additional explanation.\n",
    "\"\"\"\n",
    "print(user_content)\n",
    "# 提取减数和被减数"
   ],
   "id": "623fb900b7800af5",
   "outputs": [
    {
     "name": "stdout",
     "output_type": "stream",
     "text": [
      "\n",
      "input parameters\n",
      "<minuend>\n",
      "Toronto‘s population was 2,794,356 in 2021, making it the most populous city in Canada.\n",
      "</minuend>\n",
      "\n",
      "<subtrahend>\n",
      "New York, New York’s current population is 8,258,035.\n",
      "</subtrahend>\n",
      "\n",
      "output parameters in json format\n",
      "```json\n",
      "{\n",
      "    \"minuend\":\"the value of minuend in float\",\n",
      "    \"subtrahend\": \"the value of subtrahend in float\"\n",
      "}\n",
      "```\n",
      "only return the numerical results without any additional explanation.\n",
      "\n"
     ]
    }
   ],
   "execution_count": 91
  },
  {
   "metadata": {
    "ExecuteTime": {
     "end_time": "2024-10-20T13:18:39.102983Z",
     "start_time": "2024-10-20T13:18:36.852639Z"
    }
   },
   "cell_type": "code",
   "source": [
    "messages = [\n",
    "    {\"role\":\"system\", \"content\":system_prompt},\n",
    "    {\"role\":\"user\", \"content\":user_content}\n",
    "]\n",
    "\n",
    "response = ask(messages=messages, is_json=True)\n",
    "response.choices[0].message.content"
   ],
   "id": "56bfcfbb549acc1",
   "outputs": [
    {
     "data": {
      "text/plain": [
       "'{\\n    \"minuend\": 2794356.0,\\n    \"subtrahend\": 8258035.0\\n}'"
      ]
     },
     "execution_count": 92,
     "metadata": {},
     "output_type": "execute_result"
    }
   ],
   "execution_count": 92
  },
  {
   "metadata": {
    "ExecuteTime": {
     "end_time": "2024-10-20T13:18:24.102200Z",
     "start_time": "2024-10-20T13:18:24.096749Z"
    }
   },
   "cell_type": "code",
   "source": "type(response.choices[0].message.content)",
   "id": "5b19b27254ddd3a0",
   "outputs": [
    {
     "data": {
      "text/plain": [
       "str"
      ]
     },
     "execution_count": 90,
     "metadata": {},
     "output_type": "execute_result"
    }
   ],
   "execution_count": 90
  },
  {
   "metadata": {
    "ExecuteTime": {
     "end_time": "2024-10-20T13:19:32.738886Z",
     "start_time": "2024-10-20T13:19:32.735794Z"
    }
   },
   "cell_type": "code",
   "source": [
    "import json\n",
    "result_dict = json.loads(response.choices[0].message.content)\n",
    "print(result_dict)"
   ],
   "id": "5aeed56a45392244",
   "outputs": [
    {
     "name": "stdout",
     "output_type": "stream",
     "text": [
      "{'minuend': 2794356.0, 'subtrahend': 8258035.0}\n"
     ]
    }
   ],
   "execution_count": 93
  },
  {
   "metadata": {
    "ExecuteTime": {
     "end_time": "2024-10-20T13:19:43.641718Z",
     "start_time": "2024-10-20T13:19:43.637192Z"
    }
   },
   "cell_type": "code",
   "source": "type(result_dict)#把json字符串转换成字典",
   "id": "9feaa84dd0925d40",
   "outputs": [
    {
     "data": {
      "text/plain": [
       "dict"
      ]
     },
     "execution_count": 94,
     "metadata": {},
     "output_type": "execute_result"
    }
   ],
   "execution_count": 94
  },
  {
   "metadata": {
    "ExecuteTime": {
     "end_time": "2024-10-20T13:21:46.927552Z",
     "start_time": "2024-10-20T13:21:46.923140Z"
    }
   },
   "cell_type": "code",
   "source": [
    "def abs_diff(minuend:float, subtrahend:float) -> float:\n",
    "    if minuend >= subtrahend:\n",
    "        return minuend - subtrahend\n",
    "    else:\n",
    "        return subtrahend - minuend\n",
    "    # 计算绝对差值\n",
    "    \n",
    "diff = abs_diff(result_dict['minuend'], result_dict['subtrahend'])\n",
    "print(diff)"
   ],
   "id": "edfddf911e61c0ae",
   "outputs": [
    {
     "name": "stdout",
     "output_type": "stream",
     "text": [
      "5463679.0\n"
     ]
    }
   ],
   "execution_count": 95
  },
  {
   "metadata": {},
   "cell_type": "markdown",
   "source": "<h3>llm method<h3",
   "id": "628bd8f6c950bdeb"
  },
  {
   "metadata": {
    "ExecuteTime": {
     "end_time": "2024-10-20T13:38:58.618269Z",
     "start_time": "2024-10-20T13:38:58.613790Z"
    }
   },
   "cell_type": "code",
   "source": [
    "system_prompt = \"You are a calculation assistant.\"\n",
    "\n",
    "question = f\"To calculate the abs difference between {result1} and {result2} \"\n",
    "user_content = f\"\"\"\n",
    "Answer the Question based on the Context. When you write down a expression, it MUST ONLY consists of numbers and operators. Here are some guidelines that you will be PANALIZED if you don't follow:\n",
    "\n",
    "  - When you are asked for differences, you consider the absolute value of the difference. Difference of two numbers is always positive.For instance, the difference between 1 and 2 is 1, not -1.\n",
    "  - When you are applying operations (e.g. difference, summation, ratio, etc.) between multiple values in the Context, you must unify the units of those numbers. For instance, you cannot add 1 meter to 1 foot.\n",
    "     - You must pick the values in the same units if all the values are available in the same units.\n",
    "     - If not, you must convert them to the same units before applying the operation.\n",
    "  - You MUST strictly follow the unit (e.g. meter, kilometer, million, etc.) you were asked.\n",
    "     - If the Context has the numbers in same units as the question, you can directly use them.\n",
    "     - If the Context has the numbers in different units than the question, you must convert them to the units asked in the question.For example, if the question asks for the distance between two cities in kilometers, but the Context has the distance in miles, you must convert the distance to kilometers.\n",
    "  - If you are asked about a particular number in millions, billions, or any other unit, the number should be written without specifying the unit. For example, if you are asked for 100 millions, it should be written as 100, not 100 million or 100,000,000.\n",
    " - Never introduce a variable. For instance \"gazelle_max_speed * 1.4\" is not allowed. Pick up a correct number from the given context.\n",
    "\n",
    "Here is an example of a correct answer:\n",
    "If result1 is 100 and result2 is 50, you should output: |100 - 50| = 50.\n",
    "\n",
    " Question: {question}\n",
    " \n",
    "\"\"\""
   ],
   "id": "99383cdd577de8ab",
   "outputs": [],
   "execution_count": 107
  },
  {
   "metadata": {
    "ExecuteTime": {
     "end_time": "2024-10-20T13:39:01.100177Z",
     "start_time": "2024-10-20T13:38:59.106535Z"
    }
   },
   "cell_type": "code",
   "source": [
    "messages = [\n",
    "    {\"role\":\"system\", \"content\":system_prompt},\n",
    "    {\"role\":\"user\", \"content\":user_content}\n",
    "]\n",
    "\n",
    "response = ask(messages=messages,is_json=False)\n",
    "\n",
    "print(response.choices[0].message.content)"
   ],
   "id": "446a97023f94884f",
   "outputs": [
    {
     "name": "stdout",
     "output_type": "stream",
     "text": [
      "|2794356 - 8258035| = 5463679\n"
     ]
    }
   ],
   "execution_count": 108
  },
  {
   "metadata": {},
   "cell_type": "markdown",
   "source": "<h3>封装成类，方便调用<h3",
   "id": "bb56d226b7e9f847"
  },
  {
   "metadata": {
    "ExecuteTime": {
     "end_time": "2024-10-20T13:41:46.082902Z",
     "start_time": "2024-10-20T13:41:46.078294Z"
    }
   },
   "cell_type": "code",
   "source": [
    "class AbsDifference:\n",
    "    def __init__(self, name:str=\"subtractions\"):\n",
    "        self.system_prompt = \"You are a calculation assistant.\"\n",
    "\n",
    "        self.name = name\n",
    "        self.description = \"math tool for calculating subtractions\"\n",
    "        \n",
    "    def __call__(self, result1:str, result2:str) -> str:\n",
    "        question = f\"To calculate the abs difference between {result1} and {result2}\"\n",
    "\n",
    "        user_content = f\"\"\"\n",
    "Answer the Question based on the Context. When you write down a expression, it MUST ONLY consists of numbers and operators. Here are some guidelines that you will be PANALIZED if you don't follow:\n",
    "\n",
    "  - When you are asked for differences, you consider the absolute value of the difference. Difference of two numbers is always positive.For instance, the difference between 1 and 2 is 1, not -1.\n",
    "  - When you are applying operations (e.g. difference, summation, ratio, etc.) between multiple values in the Context, you must unify the units of those numbers. For instance, you cannot add 1 meter to 1 foot.\n",
    "     - You must pick the values in the same units if all the values are available in the same units.\n",
    "     - If not, you must convert them to the same units before applying the operation.\n",
    "  - You MUST strictly follow the unit (e.g. meter, kilometer, million, etc.) you were asked.\n",
    "     - If the Context has the numbers in same units as the question, you can directly use them.\n",
    "     - If the Context has the numbers in different units than the question, you must convert them to the units asked in the question.For example, if the question asks for the distance between two cities in kilometers, but the Context has the distance in miles, you must convert the distance to kilometers.\n",
    "  - If you are asked about a particular number in millions, billions, or any other unit, the number should be written without specifying the unit. For example, if you are asked for 100 millions, it should be written as 100, not 100 million or 100,000,000.\n",
    " - Never introduce a variable. For instance \"gazelle_max_speed * 1.4\" is not allowed. Pick up a correct number from the given context.\n",
    "\n",
    "Here is an example of a correct answer:\n",
    "If result1 is 100 and result2 is 50, you should output: |100 - 50| = 50.\n",
    "\n",
    " Question: {question}\n",
    " \n",
    "\"\"\"\n",
    "        messages = [\n",
    "            {\"role\":\"system\", \"content\":system_prompt},\n",
    "            {\"role\":\"user\", \"content\":user_content}\n",
    "        ]\n",
    "\n",
    "        response = ask(messages=messages)\n",
    "        return response.choices[0].message.content"
   ],
   "id": "ad9c68373c42e3f8",
   "outputs": [],
   "execution_count": 109
  },
  {
   "metadata": {
    "ExecuteTime": {
     "end_time": "2024-10-20T13:41:49.581822Z",
     "start_time": "2024-10-20T13:41:47.553787Z"
    }
   },
   "cell_type": "code",
   "source": [
    "math_tool = AbsDifference()\n",
    "result = math_tool(result1, result2)\n",
    "print(result)"
   ],
   "id": "1493b836618a96c8",
   "outputs": [
    {
     "name": "stdout",
     "output_type": "stream",
     "text": [
      "|2794356 - 8258035| = 5463679\n"
     ]
    }
   ],
   "execution_count": 110
  },
  {
   "metadata": {},
   "cell_type": "code",
   "outputs": [],
   "execution_count": null,
   "source": "",
   "id": "8cffed3f268d77ab"
  }
 ],
 "metadata": {
  "kernelspec": {
   "display_name": "Python 3",
   "language": "python",
   "name": "python3"
  },
  "language_info": {
   "codemirror_mode": {
    "name": "ipython",
    "version": 2
   },
   "file_extension": ".py",
   "mimetype": "text/x-python",
   "name": "python",
   "nbconvert_exporter": "python",
   "pygments_lexer": "ipython2",
   "version": "2.7.6"
  }
 },
 "nbformat": 4,
 "nbformat_minor": 5
}
