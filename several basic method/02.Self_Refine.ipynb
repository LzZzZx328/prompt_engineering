{
 "cells": [
  {
   "cell_type": "code",
   "id": "initial_id",
   "metadata": {
    "collapsed": true,
    "ExecuteTime": {
     "end_time": "2024-10-20T07:20:08.935197Z",
     "start_time": "2024-10-20T07:20:08.341099Z"
    }
   },
   "source": [
    "from openai import OpenAI\n",
    "from typing import List, Dict\n",
    "\n",
    "def ask(messages: List[Dict]):\n",
    "        client = OpenAI(api_key='sk-a6bb624707354861abff16885ffe5252', base_url=\"https://dashscope.aliyuncs.com/compatible-mode/v1\")\n",
    "        response = client.chat.completions.create(\n",
    "                model = 'qwen-plus',\n",
    "                temperature = 0.3,\n",
    "                messages = messages\n",
    "        )\n",
    "\n",
    "        return response"
   ],
   "outputs": [],
   "execution_count": 1
  },
  {
   "metadata": {},
   "cell_type": "markdown",
   "source": "<h2>一个英译中对话的例子，多次交互实现Self-Refine效果<h2",
   "id": "d047dde5d42729d7"
  },
  {
   "metadata": {
    "ExecuteTime": {
     "end_time": "2024-10-20T07:20:33.878379Z",
     "start_time": "2024-10-20T07:20:33.874444Z"
    }
   },
   "cell_type": "code",
   "source": [
    "# reference <https://github.com/andrewyng/translation-agent>\n",
    "\n",
    "source_text = \"\"\"\n",
    "Last week, I spoke about AI and regulation at the U.S. Capitol at an event that was attended by legislative and business leaders. I’m encouraged by the progress the open source community has made fending off regulations that would have stifled innovation. But opponents of open source are continuing to shift their arguments, with the latest worries centering on open source's impact on national security. I hope we’ll all keep protecting open source!\n",
    "\n",
    "Based on my conversations with legislators, I’m encouraged by the progress the U.S. federal government has made getting a realistic grasp of AI’s risks. To be clear, guardrails are needed. But they should be applied to AI applications, not to general-purpose AI technology.\n",
    "\"\"\""
   ],
   "id": "138cb5c6a42072ad",
   "outputs": [],
   "execution_count": 2
  },
  {
   "metadata": {},
   "cell_type": "markdown",
   "source": "<h2>第一轮交互，给llm设定成翻译家角色，进行翻译任务<h2",
   "id": "41d61409797852e0"
  },
  {
   "metadata": {
    "ExecuteTime": {
     "end_time": "2024-10-20T07:29:07.773824Z",
     "start_time": "2024-10-20T07:29:07.769317Z"
    }
   },
   "cell_type": "code",
   "source": [
    "# 构建第一轮对话的system prompt和user prompt\n",
    "first_translate_system_message = f\"You are an expert linguist, specializing in translation from English to Simplified Chinese.\"\n",
    "\n",
    "first_user_translation_prompt = f\"\"\"This is an English to Chinese translation, please provide the Simplified Chinese translation for this text. \\\\\n",
    "Do not provide any explanations or text apart from the translation.\n",
    "English: {source_text}\n",
    "\n",
    "Chinese:\"\"\"\n",
    "\n",
    "## 将 source text 作为参数传入，构造好完整的输入\n",
    "first_user_prompt = first_user_translation_prompt.format(source_text=source_text)\n",
    "\n",
    "print(first_user_prompt)"
   ],
   "id": "3ca8dddf9442796a",
   "outputs": [
    {
     "name": "stdout",
     "output_type": "stream",
     "text": [
      "This is an English to Chinese translation, please provide the Simplified Chinese translation for this text. \\\n",
      "Do not provide any explanations or text apart from the translation.\n",
      "English: \n",
      "Last week, I spoke about AI and regulation at the U.S. Capitol at an event that was attended by legislative and business leaders. I’m encouraged by the progress the open source community has made fending off regulations that would have stifled innovation. But opponents of open source are continuing to shift their arguments, with the latest worries centering on open source's impact on national security. I hope we’ll all keep protecting open source!\n",
      "\n",
      "Based on my conversations with legislators, I’m encouraged by the progress the U.S. federal government has made getting a realistic grasp of AI’s risks. To be clear, guardrails are needed. But they should be applied to AI applications, not to general-purpose AI technology.\n",
      "\n",
      "\n",
      "Chinese:\n"
     ]
    }
   ],
   "execution_count": 9
  },
  {
   "metadata": {
    "ExecuteTime": {
     "end_time": "2024-10-20T07:29:14.544937Z",
     "start_time": "2024-10-20T07:29:09.872559Z"
    }
   },
   "cell_type": "code",
   "source": [
    "messages = [\n",
    "    {\"role\":\"system\", \"content\": first_translate_system_message},\n",
    "    {\"role\":\"user\", \"content\": first_user_prompt}\n",
    "]\n",
    "\n",
    "first_response = ask(messages=messages)\n",
    "\n",
    "translation_1 = first_response.choices[0].message.content\n",
    "print(translation_1)"
   ],
   "id": "962bbdb529136953",
   "outputs": [
    {
     "name": "stdout",
     "output_type": "stream",
     "text": [
      "上周，我在美国国会的一个活动上谈到了人工智能和监管问题，该活动吸引了立法者和商界领袖参加。我对开源社区在抵制可能抑制创新的法规方面取得的进展感到鼓舞。但反对开源的人正在改变他们的论点，最新的担忧集中在开源对国家安全的影响上。我希望我们都能继续保护开源！\n",
      "\n",
      "根据我与立法者的交谈，我对美国联邦政府在现实地理解人工智能风险方面取得的进展感到鼓舞。明确地说，需要设立一些规则。但这些规则应该应用于人工智能的具体应用，而不是通用的人工智能技术。\n"
     ]
    }
   ],
   "execution_count": 10
  },
  {
   "metadata": {},
   "cell_type": "markdown",
   "source": "<h2>第二轮交互，给llm设定成评价角色，进行自我改进<h2",
   "id": "5a2b68dcd3b75b6d"
  },
  {
   "metadata": {
    "ExecuteTime": {
     "end_time": "2024-10-20T07:52:01.812511Z",
     "start_time": "2024-10-20T07:52:01.808222Z"
    }
   },
   "cell_type": "code",
   "source": [
    "reflect_system_prompt = \"You are an expert linguist specializing in translation from English to Simplified Chinese. You will be provided with a source text and its translation and your goal is to improve the translation.\"\n",
    "# 不仅是语言专家，还要对翻译结果进行评价，目标是提升翻译质量\n",
    "reflect_prompt = f\"\"\"Your task is to carefully read a source text and a translation from English to Simplified Chinese, and then give constructive criticism and helpful suggestions to improve the translation. \\\\\n",
    "\n",
    "The source text and initial translation, delimited by XML tags <SOURCE_TEXT></SOURCE_TEXT> and <TRANSLATION></TRANSLATION>, are as follows:\n",
    "\n",
    "<SOURCE_TEXT>\n",
    "{source_text}\n",
    "</SOURCE_TEXT>\n",
    "\n",
    "<TRANSLATION>\n",
    "{translation_1}\n",
    "</TRANSLATION>\n",
    "\n",
    "When writing suggestions, pay attention to whether there are ways to improve the translation's \\n\\\n",
    "(i) accuracy (by correcting errors of addition, mistranslation, omission, or untranslated text),\\n\\\n",
    "(ii) fluency (by applying Simplified Chinese grammar, spelling and punctuation rules, and ensuring there are no unnecessary repetitions),\\n\\\n",
    "(iii) style (by ensuring the translations reflect the style of the source text and takes into account any cultural context),\\n\\\n",
    "(iv) terminology (by ensuring terminology use is consistent and reflects the source text domain; and by only ensuring you use equivalent idioms Simplified Chinese).\\n\\\n",
    "\n",
    "Write a list of specific, helpful and constructive suggestions for improving the translation.\n",
    "Each suggestion should address one specific part of the translation.\n",
    "Output only the suggestions and nothing else.\"\"\"\n",
    "# <SOURCE_TEXT> 和 <TRANSLATION> 作为参数传入，构造好完整的输入\n",
    "\n",
    "feedback_user_prompt = reflect_prompt.format(\n",
    "        source_text=source_text,\n",
    "        translation_1=translation_1,\n",
    "    )\n",
    "print(feedback_user_prompt)"
   ],
   "id": "3b17190cf425416a",
   "outputs": [
    {
     "name": "stdout",
     "output_type": "stream",
     "text": [
      "Your task is to carefully read a source text and a translation from English to Simplified Chinese, and then give constructive criticism and helpful suggestions to improve the translation. \\\n",
      "\n",
      "The source text and initial translation, delimited by XML tags <SOURCE_TEXT></SOURCE_TEXT> and <TRANSLATION></TRANSLATION>, are as follows:\n",
      "\n",
      "<SOURCE_TEXT>\n",
      "\n",
      "Last week, I spoke about AI and regulation at the U.S. Capitol at an event that was attended by legislative and business leaders. I’m encouraged by the progress the open source community has made fending off regulations that would have stifled innovation. But opponents of open source are continuing to shift their arguments, with the latest worries centering on open source's impact on national security. I hope we’ll all keep protecting open source!\n",
      "\n",
      "Based on my conversations with legislators, I’m encouraged by the progress the U.S. federal government has made getting a realistic grasp of AI’s risks. To be clear, guardrails are needed. But they should be applied to AI applications, not to general-purpose AI technology.\n",
      "\n",
      "</SOURCE_TEXT>\n",
      "\n",
      "<TRANSLATION>\n",
      "上周，我在美国国会的一个活动上谈到了人工智能和监管问题，该活动吸引了立法者和商界领袖参加。我对开源社区在抵制可能抑制创新的法规方面取得的进展感到鼓舞。但反对开源的人正在改变他们的论点，最新的担忧集中在开源对国家安全的影响上。我希望我们都能继续保护开源！\n",
      "\n",
      "根据我与立法者的交谈，我对美国联邦政府在现实地理解人工智能风险方面取得的进展感到鼓舞。明确地说，需要设立一些规则。但这些规则应该应用于人工智能的具体应用，而不是通用的人工智能技术。\n",
      "</TRANSLATION>\n",
      "\n",
      "When writing suggestions, pay attention to whether there are ways to improve the translation's \n",
      "(i) accuracy (by correcting errors of addition, mistranslation, omission, or untranslated text),\n",
      "(ii) fluency (by applying Simplified Chinese grammar, spelling and punctuation rules, and ensuring there are no unnecessary repetitions),\n",
      "(iii) style (by ensuring the translations reflect the style of the source text and takes into account any cultural context),\n",
      "(iv) terminology (by ensuring terminology use is consistent and reflects the source text domain; and by only ensuring you use equivalent idioms Simplified Chinese).\n",
      "\n",
      "Write a list of specific, helpful and constructive suggestions for improving the translation.\n",
      "Each suggestion should address one specific part of the translation.\n",
      "Output only the suggestions and nothing else.\n"
     ]
    }
   ],
   "execution_count": 20
  },
  {
   "metadata": {
    "ExecuteTime": {
     "end_time": "2024-10-20T07:43:54.787397Z",
     "start_time": "2024-10-20T07:43:42.682234Z"
    }
   },
   "cell_type": "code",
   "source": [
    "message2 = [\n",
    "    {\"role\":\"system\", \"content\": reflect_system_prompt},\n",
    "    {\"role\":\"user\", \"content\": feedback_user_prompt}\n",
    "]\n",
    "\n",
    "response = ask(messages=message2)\n",
    "\n",
    "reflection = response.choices[0].message.content\n",
    "print(reflection)"
   ],
   "id": "7ce9015cf97d91c5",
   "outputs": [
    {
     "name": "stdout",
     "output_type": "stream",
     "text": [
      "1. 在第一句中，“at an event that was attended by” 可以更自然地翻译为“在一个由...参加的活动上”，即：“上周，我在美国国会的一个由立法者和商界领袖参加的活动上谈到了人工智能和监管问题。”\n",
      "2. 第二句中的“fending off regulations” 翻译为“抵制可能抑制创新的法规”可以更准确地表达原文的意思，建议改为：“我对开源社区在抵制那些可能抑制创新的法规方面取得的进展感到鼓舞。”\n",
      "3. 第三句中的“opponents of open source are continuing to shift their arguments” 可以翻译得更加流畅，建议改为：“然而，反对开源的人士不断改变他们的论点，最近的担忧集中在开源对国家安全的影响上。”\n",
      "4. 第四句中的“keep protecting open source!” 可以翻译得更加自然，建议改为：“我希望我们能继续保护开源！”\n",
      "5. 第六句中的“getting a realistic grasp of AI’s risks” 翻译为“现实地理解人工智能风险”可以更准确地表达原文的意思，建议改为：“根据我与立法者的交谈，我对美国联邦政府在实际评估人工智能风险方面取得的进展感到鼓舞。”\n",
      "6. 最后一句中的“guardrails are needed” 翻译为“需要设立一些规则”可以更准确地表达原文的意思，建议改为：“明确地说，需要设立一些规范。但这些规范应该针对人工智能的具体应用，而不是通用的人工智能技术。”\n"
     ]
    }
   ],
   "execution_count": 16
  },
  {
   "metadata": {},
   "cell_type": "markdown",
   "source": "<h2>第三轮交互，把前两轮的结果作为输入，让llm自我微调输出最终结果<h2",
   "id": "1fa8a525de00844f"
  },
  {
   "metadata": {
    "ExecuteTime": {
     "end_time": "2024-10-20T07:46:03.938141Z",
     "start_time": "2024-10-20T07:46:03.934378Z"
    }
   },
   "cell_type": "code",
   "source": [
    "refiner_system_prompt = f\"You are an expert linguist, specializing in translation editing from English to Traditional Chinese.\"\n",
    "\n",
    "refined_translate_user_prompt = f\"\"\"Your task is to carefully read, then edit, a translation from English to Simplified Chinese, taking into\n",
    "account a list of expert suggestions and constructive criticisms.\n",
    "\n",
    "The source text, the initial translation, and the expert linguist suggestions are delimited by XML tags <SOURCE_TEXT></SOURCE_TEXT>, <TRANSLATION></TRANSLATION> and <EXPERT_SUGGESTIONS></EXPERT_SUGGESTIONS> \\\\\n",
    "as follows:\n",
    "\n",
    "<SOURCE_TEXT>\n",
    "{source_text}\n",
    "</SOURCE_TEXT>\n",
    "\n",
    "<TRANSLATION>\n",
    "{translation_1}\n",
    "</TRANSLATION>\n",
    "\n",
    "<EXPERT_SUGGESTIONS>\n",
    "{reflection}\n",
    "</EXPERT_SUGGESTIONS>\n",
    "\n",
    "Please take into account the expert suggestions when editing the translation. Edit the translation by ensuring:\n",
    "\n",
    "(i) accuracy (by correcting errors of addition, mistranslation, omission, or untranslated text),\n",
    "(ii) fluency (by applying Simplified Chinese grammar, spelling and punctuation rules and ensuring there are no unnecessary repetitions), \\\\\n",
    "(iii) style (by ensuring the translations reflect the style of the source text)\n",
    "(iv) terminology (inappropriate for context, inconsistent use), or\n",
    "(v) other errors.\n",
    "\n",
    "Output only the new translation and nothing else.\"\"\"\n",
    "\n",
    "refined_user_prompt = refined_translate_user_prompt.format(\n",
    "        source_text=source_text,\n",
    "        translation_1=translation_1,\n",
    "        reflection=reflection,\n",
    "    )\n"
   ],
   "id": "e7bbc3fef01904e",
   "outputs": [],
   "execution_count": 17
  },
  {
   "metadata": {
    "ExecuteTime": {
     "end_time": "2024-10-20T07:46:11.668771Z",
     "start_time": "2024-10-20T07:46:06.753244Z"
    }
   },
   "cell_type": "code",
   "source": [
    "#最终输出结果\n",
    "message3 = [\n",
    "    {\"role\":\"system\", \"content\": refiner_system_prompt},\n",
    "    {\"role\":\"user\", \"content\": refined_user_prompt}\n",
    "]\n",
    "\n",
    "response = ask(messages=message3)\n",
    "\n",
    "translation_2 = response.choices[0].message.content\n",
    "print(translation_2)"
   ],
   "id": "eb2b829855c75d7a",
   "outputs": [
    {
     "name": "stdout",
     "output_type": "stream",
     "text": [
      "上周，我在美国国会的一个由立法者和商界领袖参加的活动上谈到了人工智能和监管问题。我对开源社区在抵制那些可能抑制创新的法规方面取得的进展感到鼓舞。然而，反对开源的人士不断改变他们的论点，最近的担忧集中在开源对国家安全的影响上。我希望我们能继续保护开源！\n",
      "\n",
      "根据我与立法者的交谈，我对美国联邦政府在实际评估人工智能风险方面取得的进展感到鼓舞。明确地说，需要设立一些规范。但这些规范应该针对人工智能的具体应用，而不是通用的人工智能技术。\n"
     ]
    }
   ],
   "execution_count": 18
  },
  {
   "metadata": {},
   "cell_type": "markdown",
   "source": [
    "<h2>注：Self-Refine的效果并不一定会显著提升翻译质量，但可以提升翻译的自然度、流畅度、准确性、风格和一致性，有助于提升翻译的可读性和理解度。\n",
    "且不一定都是三轮交互的格式，可以根据实际情况调整交互次数和内容。<h2"
   ],
   "id": "42252e70f9eb4308"
  },
  {
   "metadata": {},
   "cell_type": "code",
   "outputs": [],
   "execution_count": null,
   "source": "",
   "id": "13127aae35d2c98d"
  }
 ],
 "metadata": {
  "kernelspec": {
   "display_name": "Python 3",
   "language": "python",
   "name": "python3"
  },
  "language_info": {
   "codemirror_mode": {
    "name": "ipython",
    "version": 2
   },
   "file_extension": ".py",
   "mimetype": "text/x-python",
   "name": "python",
   "nbconvert_exporter": "python",
   "pygments_lexer": "ipython2",
   "version": "2.7.6"
  }
 },
 "nbformat": 4,
 "nbformat_minor": 5
}
