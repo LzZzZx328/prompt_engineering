{
 "cells": [
  {
   "cell_type": "code",
   "id": "initial_id",
   "metadata": {
    "collapsed": true,
    "ExecuteTime": {
     "end_time": "2024-10-20T11:45:50.729349Z",
     "start_time": "2024-10-20T11:45:50.215294Z"
    }
   },
   "source": [
    "from openai import OpenAI\n",
    "from typing import List, Dict\n",
    "\n",
    "def ask(messages: List[Dict]):\n",
    "        client = OpenAI(api_key='sk-a6bb624707354861abff16885ffe5252', base_url=\"https://dashscope.aliyuncs.com/compatible-mode/v1\")\n",
    "        response = client.chat.completions.create(\n",
    "                model = 'qwen-plus',\n",
    "                temperature = 0.3,\n",
    "                messages = messages\n",
    "        )\n",
    "\n",
    "        return response"
   ],
   "outputs": [],
   "execution_count": 1
  },
  {
   "metadata": {
    "ExecuteTime": {
     "end_time": "2024-10-20T11:45:50.897377Z",
     "start_time": "2024-10-20T11:45:50.894007Z"
    }
   },
   "cell_type": "code",
   "source": [
    "plan_system_prompt = \"\"\"\n",
    "    Let's first understand the problem and devise a plan to solve the problem.\n",
    "    Please output the plan starting with the header 'Plan:' and then followed by a numbered list of steps. \n",
    "    Please make the plan the minimum number of steps required to accurately complete the task. If the task is a question, \n",
    "    the final step should almost always be 'Given the above steps taken, please respond to the users original question'. \n",
    "\"\"\"\n",
    "\n",
    "# user content\n",
    "question = 'the population gap between Toronto and New York city'\n",
    "\n",
    "# messages\n",
    "messages = [\n",
    "    {'role':'system', 'content': plan_system_prompt},\n",
    "    {'role':'user', 'content': question}\n",
    "]"
   ],
   "id": "9501dbbc27f4296c",
   "outputs": [],
   "execution_count": 2
  },
  {
   "metadata": {
    "ExecuteTime": {
     "end_time": "2024-10-20T11:45:54.668470Z",
     "start_time": "2024-10-20T11:45:51.851244Z"
    }
   },
   "cell_type": "code",
   "source": [
    "response = ask(messages)\n",
    "\n",
    "plans = response.choices[0].message.content\n",
    "print(plans)"
   ],
   "id": "3f45d9605554f295",
   "outputs": [
    {
     "name": "stdout",
     "output_type": "stream",
     "text": [
      "Plan:\n",
      "1. Find the most recent and reliable population data for Toronto.\n",
      "2. Find the most recent and reliable population data for New York City.\n",
      "3. Calculate the difference in population between the two cities.\n",
      "4. Given the above steps taken, please respond to the user's original question.\n"
     ]
    }
   ],
   "execution_count": 3
  }
 ],
 "metadata": {
  "kernelspec": {
   "display_name": "Python 3",
   "language": "python",
   "name": "python3"
  },
  "language_info": {
   "codemirror_mode": {
    "name": "ipython",
    "version": 2
   },
   "file_extension": ".py",
   "mimetype": "text/x-python",
   "name": "python",
   "nbconvert_exporter": "python",
   "pygments_lexer": "ipython2",
   "version": "2.7.6"
  }
 },
 "nbformat": 4,
 "nbformat_minor": 5
}
